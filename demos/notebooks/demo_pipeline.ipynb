{
 "cells": [
  {
   "cell_type": "markdown",
   "metadata": {},
   "source": [
    "<html><head><meta content=\"text/html; charset=UTF-8\" http-equiv=\"content-type\"><style type=\"text/css\">ol</style></head><body class=\"c5\"><p class=\"c0 c4\"><span class=\"c3\"></span></p><p class=\"c2 title\" id=\"h.rrbabt268i6e\"><h1>CaImAn&rsquo;s Demo pipeline</h1></p><p class=\"c0\"><span class=\"c3\">This notebook will help to demonstrate the process of CaImAn and how it uses different functions to denoise, deconvolve and demix neurons from a two-photon Calcium Imaging dataset. The demo shows how to construct the `params`, `MotionCorrect` and `cnmf` objects and call the relevant functions. You can also run a large part of the pipeline with a single method (`cnmf.fit_file`). See inside for details.\n",
    "\n",
    "Dataset couresy of Sue Ann Koay and David Tank (Princeton University)\n",
    "\n",
    "This demo pertains to two photon data. For a complete analysis pipeline for one photon microendoscopic data see demo_pipeline_cnmfE.ipynb</span></p>\n",
    "<p><img src=\"../../docs/img/quickintro.png\" /></p>\n",
    "<p class=\"c0\"><span class=\"c3\">More information can be found in the companion paper. </span></p>\n",
    "</html>\n",
    "\n"
   ]
  },
  {
   "cell_type": "code",
   "execution_count": 1,
   "metadata": {},
   "outputs": [
    {
     "data": {
      "text/html": [
       "\n",
       "    <div class=\"bk-root\">\n",
       "        <a href=\"https://bokeh.pydata.org\" target=\"_blank\" class=\"bk-logo bk-logo-small bk-logo-notebook\"></a>\n",
       "        <span id=\"1001\">Loading BokehJS ...</span>\n",
       "    </div>"
      ]
     },
     "metadata": {},
     "output_type": "display_data"
    },
    {
     "data": {
      "application/javascript": [
       "\n",
       "(function(root) {\n",
       "  function now() {\n",
       "    return new Date();\n",
       "  }\n",
       "\n",
       "  var force = true;\n",
       "\n",
       "  if (typeof root._bokeh_onload_callbacks === \"undefined\" || force === true) {\n",
       "    root._bokeh_onload_callbacks = [];\n",
       "    root._bokeh_is_loading = undefined;\n",
       "  }\n",
       "\n",
       "  var JS_MIME_TYPE = 'application/javascript';\n",
       "  var HTML_MIME_TYPE = 'text/html';\n",
       "  var EXEC_MIME_TYPE = 'application/vnd.bokehjs_exec.v0+json';\n",
       "  var CLASS_NAME = 'output_bokeh rendered_html';\n",
       "\n",
       "  /**\n",
       "   * Render data to the DOM node\n",
       "   */\n",
       "  function render(props, node) {\n",
       "    var script = document.createElement(\"script\");\n",
       "    node.appendChild(script);\n",
       "  }\n",
       "\n",
       "  /**\n",
       "   * Handle when an output is cleared or removed\n",
       "   */\n",
       "  function handleClearOutput(event, handle) {\n",
       "    var cell = handle.cell;\n",
       "\n",
       "    var id = cell.output_area._bokeh_element_id;\n",
       "    var server_id = cell.output_area._bokeh_server_id;\n",
       "    // Clean up Bokeh references\n",
       "    if (id != null && id in Bokeh.index) {\n",
       "      Bokeh.index[id].model.document.clear();\n",
       "      delete Bokeh.index[id];\n",
       "    }\n",
       "\n",
       "    if (server_id !== undefined) {\n",
       "      // Clean up Bokeh references\n",
       "      var cmd = \"from bokeh.io.state import curstate; print(curstate().uuid_to_server['\" + server_id + \"'].get_sessions()[0].document.roots[0]._id)\";\n",
       "      cell.notebook.kernel.execute(cmd, {\n",
       "        iopub: {\n",
       "          output: function(msg) {\n",
       "            var id = msg.content.text.trim();\n",
       "            if (id in Bokeh.index) {\n",
       "              Bokeh.index[id].model.document.clear();\n",
       "              delete Bokeh.index[id];\n",
       "            }\n",
       "          }\n",
       "        }\n",
       "      });\n",
       "      // Destroy server and session\n",
       "      var cmd = \"import bokeh.io.notebook as ion; ion.destroy_server('\" + server_id + \"')\";\n",
       "      cell.notebook.kernel.execute(cmd);\n",
       "    }\n",
       "  }\n",
       "\n",
       "  /**\n",
       "   * Handle when a new output is added\n",
       "   */\n",
       "  function handleAddOutput(event, handle) {\n",
       "    var output_area = handle.output_area;\n",
       "    var output = handle.output;\n",
       "\n",
       "    // limit handleAddOutput to display_data with EXEC_MIME_TYPE content only\n",
       "    if ((output.output_type != \"display_data\") || (!output.data.hasOwnProperty(EXEC_MIME_TYPE))) {\n",
       "      return\n",
       "    }\n",
       "\n",
       "    var toinsert = output_area.element.find(\".\" + CLASS_NAME.split(' ')[0]);\n",
       "\n",
       "    if (output.metadata[EXEC_MIME_TYPE][\"id\"] !== undefined) {\n",
       "      toinsert[toinsert.length - 1].firstChild.textContent = output.data[JS_MIME_TYPE];\n",
       "      // store reference to embed id on output_area\n",
       "      output_area._bokeh_element_id = output.metadata[EXEC_MIME_TYPE][\"id\"];\n",
       "    }\n",
       "    if (output.metadata[EXEC_MIME_TYPE][\"server_id\"] !== undefined) {\n",
       "      var bk_div = document.createElement(\"div\");\n",
       "      bk_div.innerHTML = output.data[HTML_MIME_TYPE];\n",
       "      var script_attrs = bk_div.children[0].attributes;\n",
       "      for (var i = 0; i < script_attrs.length; i++) {\n",
       "        toinsert[toinsert.length - 1].firstChild.setAttribute(script_attrs[i].name, script_attrs[i].value);\n",
       "      }\n",
       "      // store reference to server id on output_area\n",
       "      output_area._bokeh_server_id = output.metadata[EXEC_MIME_TYPE][\"server_id\"];\n",
       "    }\n",
       "  }\n",
       "\n",
       "  function register_renderer(events, OutputArea) {\n",
       "\n",
       "    function append_mime(data, metadata, element) {\n",
       "      // create a DOM node to render to\n",
       "      var toinsert = this.create_output_subarea(\n",
       "        metadata,\n",
       "        CLASS_NAME,\n",
       "        EXEC_MIME_TYPE\n",
       "      );\n",
       "      this.keyboard_manager.register_events(toinsert);\n",
       "      // Render to node\n",
       "      var props = {data: data, metadata: metadata[EXEC_MIME_TYPE]};\n",
       "      render(props, toinsert[toinsert.length - 1]);\n",
       "      element.append(toinsert);\n",
       "      return toinsert\n",
       "    }\n",
       "\n",
       "    /* Handle when an output is cleared or removed */\n",
       "    events.on('clear_output.CodeCell', handleClearOutput);\n",
       "    events.on('delete.Cell', handleClearOutput);\n",
       "\n",
       "    /* Handle when a new output is added */\n",
       "    events.on('output_added.OutputArea', handleAddOutput);\n",
       "\n",
       "    /**\n",
       "     * Register the mime type and append_mime function with output_area\n",
       "     */\n",
       "    OutputArea.prototype.register_mime_type(EXEC_MIME_TYPE, append_mime, {\n",
       "      /* Is output safe? */\n",
       "      safe: true,\n",
       "      /* Index of renderer in `output_area.display_order` */\n",
       "      index: 0\n",
       "    });\n",
       "  }\n",
       "\n",
       "  // register the mime type if in Jupyter Notebook environment and previously unregistered\n",
       "  if (root.Jupyter !== undefined) {\n",
       "    var events = require('base/js/events');\n",
       "    var OutputArea = require('notebook/js/outputarea').OutputArea;\n",
       "\n",
       "    if (OutputArea.prototype.mime_types().indexOf(EXEC_MIME_TYPE) == -1) {\n",
       "      register_renderer(events, OutputArea);\n",
       "    }\n",
       "  }\n",
       "\n",
       "  \n",
       "  if (typeof (root._bokeh_timeout) === \"undefined\" || force === true) {\n",
       "    root._bokeh_timeout = Date.now() + 5000;\n",
       "    root._bokeh_failed_load = false;\n",
       "  }\n",
       "\n",
       "  var NB_LOAD_WARNING = {'data': {'text/html':\n",
       "     \"<div style='background-color: #fdd'>\\n\"+\n",
       "     \"<p>\\n\"+\n",
       "     \"BokehJS does not appear to have successfully loaded. If loading BokehJS from CDN, this \\n\"+\n",
       "     \"may be due to a slow or bad network connection. Possible fixes:\\n\"+\n",
       "     \"</p>\\n\"+\n",
       "     \"<ul>\\n\"+\n",
       "     \"<li>re-rerun `output_notebook()` to attempt to load from CDN again, or</li>\\n\"+\n",
       "     \"<li>use INLINE resources instead, as so:</li>\\n\"+\n",
       "     \"</ul>\\n\"+\n",
       "     \"<code>\\n\"+\n",
       "     \"from bokeh.resources import INLINE\\n\"+\n",
       "     \"output_notebook(resources=INLINE)\\n\"+\n",
       "     \"</code>\\n\"+\n",
       "     \"</div>\"}};\n",
       "\n",
       "  function display_loaded() {\n",
       "    var el = document.getElementById(\"1001\");\n",
       "    if (el != null) {\n",
       "      el.textContent = \"BokehJS is loading...\";\n",
       "    }\n",
       "    if (root.Bokeh !== undefined) {\n",
       "      if (el != null) {\n",
       "        el.textContent = \"BokehJS \" + root.Bokeh.version + \" successfully loaded.\";\n",
       "      }\n",
       "    } else if (Date.now() < root._bokeh_timeout) {\n",
       "      setTimeout(display_loaded, 100)\n",
       "    }\n",
       "  }\n",
       "\n",
       "\n",
       "  function run_callbacks() {\n",
       "    try {\n",
       "      root._bokeh_onload_callbacks.forEach(function(callback) {\n",
       "        if (callback != null)\n",
       "          callback();\n",
       "      });\n",
       "    } finally {\n",
       "      delete root._bokeh_onload_callbacks\n",
       "    }\n",
       "    console.debug(\"Bokeh: all callbacks have finished\");\n",
       "  }\n",
       "\n",
       "  function load_libs(css_urls, js_urls, callback) {\n",
       "    if (css_urls == null) css_urls = [];\n",
       "    if (js_urls == null) js_urls = [];\n",
       "\n",
       "    root._bokeh_onload_callbacks.push(callback);\n",
       "    if (root._bokeh_is_loading > 0) {\n",
       "      console.debug(\"Bokeh: BokehJS is being loaded, scheduling callback at\", now());\n",
       "      return null;\n",
       "    }\n",
       "    if (js_urls == null || js_urls.length === 0) {\n",
       "      run_callbacks();\n",
       "      return null;\n",
       "    }\n",
       "    console.debug(\"Bokeh: BokehJS not loaded, scheduling load and callback at\", now());\n",
       "    root._bokeh_is_loading = css_urls.length + js_urls.length;\n",
       "\n",
       "    function on_load() {\n",
       "      root._bokeh_is_loading--;\n",
       "      if (root._bokeh_is_loading === 0) {\n",
       "        console.debug(\"Bokeh: all BokehJS libraries/stylesheets loaded\");\n",
       "        run_callbacks()\n",
       "      }\n",
       "    }\n",
       "\n",
       "    function on_error() {\n",
       "      console.error(\"failed to load \" + url);\n",
       "    }\n",
       "\n",
       "    for (var i = 0; i < css_urls.length; i++) {\n",
       "      var url = css_urls[i];\n",
       "      const element = document.createElement(\"link\");\n",
       "      element.onload = on_load;\n",
       "      element.onerror = on_error;\n",
       "      element.rel = \"stylesheet\";\n",
       "      element.type = \"text/css\";\n",
       "      element.href = url;\n",
       "      console.debug(\"Bokeh: injecting link tag for BokehJS stylesheet: \", url);\n",
       "      document.body.appendChild(element);\n",
       "    }\n",
       "\n",
       "    for (var i = 0; i < js_urls.length; i++) {\n",
       "      var url = js_urls[i];\n",
       "      var element = document.createElement('script');\n",
       "      element.onload = on_load;\n",
       "      element.onerror = on_error;\n",
       "      element.async = false;\n",
       "      element.src = url;\n",
       "      console.debug(\"Bokeh: injecting script tag for BokehJS library: \", url);\n",
       "      document.head.appendChild(element);\n",
       "    }\n",
       "  };var element = document.getElementById(\"1001\");\n",
       "  if (element == null) {\n",
       "    console.error(\"Bokeh: ERROR: autoload.js configured with elementid '1001' but no matching script tag was found. \")\n",
       "    return false;\n",
       "  }\n",
       "\n",
       "  function inject_raw_css(css) {\n",
       "    const element = document.createElement(\"style\");\n",
       "    element.appendChild(document.createTextNode(css));\n",
       "    document.body.appendChild(element);\n",
       "  }\n",
       "\n",
       "  var js_urls = [\"https://cdn.pydata.org/bokeh/release/bokeh-1.2.0.min.js\", \"https://cdn.pydata.org/bokeh/release/bokeh-widgets-1.2.0.min.js\", \"https://cdn.pydata.org/bokeh/release/bokeh-tables-1.2.0.min.js\", \"https://cdn.pydata.org/bokeh/release/bokeh-gl-1.2.0.min.js\"];\n",
       "  var css_urls = [\"https://cdn.pydata.org/bokeh/release/bokeh-1.2.0.min.css\", \"https://cdn.pydata.org/bokeh/release/bokeh-widgets-1.2.0.min.css\", \"https://cdn.pydata.org/bokeh/release/bokeh-tables-1.2.0.min.css\"];\n",
       "\n",
       "  var inline_js = [\n",
       "    function(Bokeh) {\n",
       "      Bokeh.set_log_level(\"info\");\n",
       "    },\n",
       "    \n",
       "    function(Bokeh) {\n",
       "      \n",
       "    },\n",
       "    function(Bokeh) {} // ensure no trailing comma for IE\n",
       "  ];\n",
       "\n",
       "  function run_inline_js() {\n",
       "    \n",
       "    if ((root.Bokeh !== undefined) || (force === true)) {\n",
       "      for (var i = 0; i < inline_js.length; i++) {\n",
       "        inline_js[i].call(root, root.Bokeh);\n",
       "      }if (force === true) {\n",
       "        display_loaded();\n",
       "      }} else if (Date.now() < root._bokeh_timeout) {\n",
       "      setTimeout(run_inline_js, 100);\n",
       "    } else if (!root._bokeh_failed_load) {\n",
       "      console.log(\"Bokeh: BokehJS failed to load within specified timeout.\");\n",
       "      root._bokeh_failed_load = true;\n",
       "    } else if (force !== true) {\n",
       "      var cell = $(document.getElementById(\"1001\")).parents('.cell').data().cell;\n",
       "      cell.output_area.append_execute_result(NB_LOAD_WARNING)\n",
       "    }\n",
       "\n",
       "  }\n",
       "\n",
       "  if (root._bokeh_is_loading === 0) {\n",
       "    console.debug(\"Bokeh: BokehJS loaded, going straight to plotting\");\n",
       "    run_inline_js();\n",
       "  } else {\n",
       "    load_libs(css_urls, js_urls, function() {\n",
       "      console.debug(\"Bokeh: BokehJS plotting callback run at\", now());\n",
       "      run_inline_js();\n",
       "    });\n",
       "  }\n",
       "}(window));"
      ],
      "application/vnd.bokehjs_load.v0+json": "\n(function(root) {\n  function now() {\n    return new Date();\n  }\n\n  var force = true;\n\n  if (typeof root._bokeh_onload_callbacks === \"undefined\" || force === true) {\n    root._bokeh_onload_callbacks = [];\n    root._bokeh_is_loading = undefined;\n  }\n\n  \n\n  \n  if (typeof (root._bokeh_timeout) === \"undefined\" || force === true) {\n    root._bokeh_timeout = Date.now() + 5000;\n    root._bokeh_failed_load = false;\n  }\n\n  var NB_LOAD_WARNING = {'data': {'text/html':\n     \"<div style='background-color: #fdd'>\\n\"+\n     \"<p>\\n\"+\n     \"BokehJS does not appear to have successfully loaded. If loading BokehJS from CDN, this \\n\"+\n     \"may be due to a slow or bad network connection. Possible fixes:\\n\"+\n     \"</p>\\n\"+\n     \"<ul>\\n\"+\n     \"<li>re-rerun `output_notebook()` to attempt to load from CDN again, or</li>\\n\"+\n     \"<li>use INLINE resources instead, as so:</li>\\n\"+\n     \"</ul>\\n\"+\n     \"<code>\\n\"+\n     \"from bokeh.resources import INLINE\\n\"+\n     \"output_notebook(resources=INLINE)\\n\"+\n     \"</code>\\n\"+\n     \"</div>\"}};\n\n  function display_loaded() {\n    var el = document.getElementById(\"1001\");\n    if (el != null) {\n      el.textContent = \"BokehJS is loading...\";\n    }\n    if (root.Bokeh !== undefined) {\n      if (el != null) {\n        el.textContent = \"BokehJS \" + root.Bokeh.version + \" successfully loaded.\";\n      }\n    } else if (Date.now() < root._bokeh_timeout) {\n      setTimeout(display_loaded, 100)\n    }\n  }\n\n\n  function run_callbacks() {\n    try {\n      root._bokeh_onload_callbacks.forEach(function(callback) {\n        if (callback != null)\n          callback();\n      });\n    } finally {\n      delete root._bokeh_onload_callbacks\n    }\n    console.debug(\"Bokeh: all callbacks have finished\");\n  }\n\n  function load_libs(css_urls, js_urls, callback) {\n    if (css_urls == null) css_urls = [];\n    if (js_urls == null) js_urls = [];\n\n    root._bokeh_onload_callbacks.push(callback);\n    if (root._bokeh_is_loading > 0) {\n      console.debug(\"Bokeh: BokehJS is being loaded, scheduling callback at\", now());\n      return null;\n    }\n    if (js_urls == null || js_urls.length === 0) {\n      run_callbacks();\n      return null;\n    }\n    console.debug(\"Bokeh: BokehJS not loaded, scheduling load and callback at\", now());\n    root._bokeh_is_loading = css_urls.length + js_urls.length;\n\n    function on_load() {\n      root._bokeh_is_loading--;\n      if (root._bokeh_is_loading === 0) {\n        console.debug(\"Bokeh: all BokehJS libraries/stylesheets loaded\");\n        run_callbacks()\n      }\n    }\n\n    function on_error() {\n      console.error(\"failed to load \" + url);\n    }\n\n    for (var i = 0; i < css_urls.length; i++) {\n      var url = css_urls[i];\n      const element = document.createElement(\"link\");\n      element.onload = on_load;\n      element.onerror = on_error;\n      element.rel = \"stylesheet\";\n      element.type = \"text/css\";\n      element.href = url;\n      console.debug(\"Bokeh: injecting link tag for BokehJS stylesheet: \", url);\n      document.body.appendChild(element);\n    }\n\n    for (var i = 0; i < js_urls.length; i++) {\n      var url = js_urls[i];\n      var element = document.createElement('script');\n      element.onload = on_load;\n      element.onerror = on_error;\n      element.async = false;\n      element.src = url;\n      console.debug(\"Bokeh: injecting script tag for BokehJS library: \", url);\n      document.head.appendChild(element);\n    }\n  };var element = document.getElementById(\"1001\");\n  if (element == null) {\n    console.error(\"Bokeh: ERROR: autoload.js configured with elementid '1001' but no matching script tag was found. \")\n    return false;\n  }\n\n  function inject_raw_css(css) {\n    const element = document.createElement(\"style\");\n    element.appendChild(document.createTextNode(css));\n    document.body.appendChild(element);\n  }\n\n  var js_urls = [\"https://cdn.pydata.org/bokeh/release/bokeh-1.2.0.min.js\", \"https://cdn.pydata.org/bokeh/release/bokeh-widgets-1.2.0.min.js\", \"https://cdn.pydata.org/bokeh/release/bokeh-tables-1.2.0.min.js\", \"https://cdn.pydata.org/bokeh/release/bokeh-gl-1.2.0.min.js\"];\n  var css_urls = [\"https://cdn.pydata.org/bokeh/release/bokeh-1.2.0.min.css\", \"https://cdn.pydata.org/bokeh/release/bokeh-widgets-1.2.0.min.css\", \"https://cdn.pydata.org/bokeh/release/bokeh-tables-1.2.0.min.css\"];\n\n  var inline_js = [\n    function(Bokeh) {\n      Bokeh.set_log_level(\"info\");\n    },\n    \n    function(Bokeh) {\n      \n    },\n    function(Bokeh) {} // ensure no trailing comma for IE\n  ];\n\n  function run_inline_js() {\n    \n    if ((root.Bokeh !== undefined) || (force === true)) {\n      for (var i = 0; i < inline_js.length; i++) {\n        inline_js[i].call(root, root.Bokeh);\n      }if (force === true) {\n        display_loaded();\n      }} else if (Date.now() < root._bokeh_timeout) {\n      setTimeout(run_inline_js, 100);\n    } else if (!root._bokeh_failed_load) {\n      console.log(\"Bokeh: BokehJS failed to load within specified timeout.\");\n      root._bokeh_failed_load = true;\n    } else if (force !== true) {\n      var cell = $(document.getElementById(\"1001\")).parents('.cell').data().cell;\n      cell.output_area.append_execute_result(NB_LOAD_WARNING)\n    }\n\n  }\n\n  if (root._bokeh_is_loading === 0) {\n    console.debug(\"Bokeh: BokehJS loaded, going straight to plotting\");\n    run_inline_js();\n  } else {\n    load_libs(css_urls, js_urls, function() {\n      console.debug(\"Bokeh: BokehJS plotting callback run at\", now());\n      run_inline_js();\n    });\n  }\n}(window));"
     },
     "metadata": {},
     "output_type": "display_data"
    }
   ],
   "source": [
    "\n",
    "import bokeh.plotting as bpl\n",
    "import cv2\n",
    "import glob\n",
    "import logging\n",
    "import matplotlib.pyplot as plt\n",
    "import numpy as np\n",
    "import os\n",
    "\n",
    "try:\n",
    "    cv2.setNumThreads(0)\n",
    "except():\n",
    "    pass\n",
    "\n",
    "try:\n",
    "    if __IPYTHON__:\n",
    "        # this is used for debugging purposes only. allows to reload classes\n",
    "        # when changed\n",
    "        get_ipython().magic('load_ext autoreload')\n",
    "        get_ipython().magic('autoreload 2')\n",
    "except NameError:\n",
    "    pass\n",
    "\n",
    "import caiman as cm\n",
    "from caiman.motion_correction import MotionCorrect\n",
    "from caiman.source_extraction.cnmf import cnmf as cnmf\n",
    "from caiman.source_extraction.cnmf import params as params\n",
    "from caiman.utils.utils import download_demo\n",
    "from caiman.utils.visualization import plot_contours, nb_view_patches, nb_plot_contour\n",
    "bpl.output_notebook()"
   ]
  },
  {
   "cell_type": "markdown",
   "metadata": {},
   "source": [
    "### Set up logger (optional)\n",
    "You can log to a file using the filename parameter, or make the output more or less verbose by setting level to `logging.DEBUG`, `logging.INFO`, `logging.WARNING`, or `logging.ERROR`. A filename argument can also be passed to store the log file"
   ]
  },
  {
   "cell_type": "code",
   "execution_count": 2,
   "metadata": {},
   "outputs": [],
   "source": [
    "logging.basicConfig(format=\n",
    "                          \"%(relativeCreated)12d [%(filename)s:%(funcName)20s():%(lineno)s] [%(process)d] %(message)s\",\n",
    "                    # filename=\"/tmp/caiman.log\",\n",
    "                    level=logging.WARNING)"
   ]
  },
  {
   "cell_type": "markdown",
   "metadata": {},
   "source": [
    "### Select file(s) to be processed\n",
    "The `download_demo` function will download the specific file for you and return the complete path to the file which will be stored in your `caiman_data` directory. If you adapt this demo for your data make sure to pass the complete path to your file(s). Remember to pass the `fname` variable as a list."
   ]
  },
  {
   "cell_type": "code",
   "execution_count": 3,
   "metadata": {
    "scrolled": true
   },
   "outputs": [],
   "source": [
    "fnames = ['Sue_2x_3000_40_-46.tif']  # filename to be processed\n",
    "if fnames[0] in ['Sue_2x_3000_40_-46.tif', 'demoMovie.tif']:\n",
    "    fnames = [download_demo(fnames[0])]"
   ]
  },
  {
   "cell_type": "markdown",
   "metadata": {},
   "source": [
    "### Play the movie (optional)\n",
    "Play the movie (optional). This will require loading the movie in memory which in general is not needed by the pipeline. Displaying the movie uses the OpenCV library. Press `q` to close the video panel."
   ]
  },
  {
   "cell_type": "code",
   "execution_count": null,
   "metadata": {},
   "outputs": [],
   "source": [
    "display_movie = False\n",
    "if display_movie:\n",
    "    m_orig = cm.load_movie_chain(fnames)\n",
    "    ds_ratio = 0.2\n",
    "    m_orig.resize(1, 1, ds_ratio).play(\n",
    "        q_max=99.5, fr=30, magnification=2)"
   ]
  },
  {
   "cell_type": "markdown",
   "metadata": {},
   "source": [
    "### Setup some parameters\n",
    "We set some parameters that are relevant to the file, and then parameters for motion correction, processing with CNMF and component quality evaluation. Note that the dataset `Sue_2x_3000_40_-46.tif` has been spatially downsampled by a factor of 2 and has a lower than usual spatial resolution (2um/pixel). As a result several parameters (`gSig, strides, max_shifts, rf, stride_cnmf`) have lower values (halved compared to a dataset with spatial resolution 1um/pixel). "
   ]
  },
  {
   "cell_type": "code",
   "execution_count": 4,
   "metadata": {
    "scrolled": true
   },
   "outputs": [],
   "source": [
    "# dataset dependent parameters\n",
    "fr = 30                             # imaging rate in frames per second\n",
    "decay_time = 0.4                    # length of a typical transient in seconds\n",
    "\n",
    "# motion correction parameters\n",
    "strides = (48, 48)          # start a new patch for pw-rigid motion correction every x pixels\n",
    "overlaps = (24, 24)         # overlap between pathes (size of patch strides+overlaps)\n",
    "max_shifts = (6,6)          # maximum allowed rigid shifts (in pixels)\n",
    "max_deviation_rigid = 3     # maximum shifts deviation allowed for patch with respect to rigid shifts\n",
    "pw_rigid = True             # flag for performing non-rigid motion correction\n",
    "\n",
    "# parameters for source extraction and deconvolution\n",
    "p = 1                       # order of the autoregressive system\n",
    "gnb = 2                     # number of global background components\n",
    "merge_thr = 0.85            # merging threshold, max correlation allowed\n",
    "rf = 15                     # half-size of the patches in pixels. e.g., if rf=25, patches are 50x50\n",
    "stride_cnmf = 6             # amount of overlap between the patches in pixels\n",
    "K = 4                       # number of components per patch\n",
    "gSig = [4, 4]               # expected half size of neurons in pixels\n",
    "method_init = 'greedy_roi'  # initialization method (if analyzing dendritic data using 'sparse_nmf')\n",
    "ssub = 1                    # spatial subsampling during initialization\n",
    "tsub = 1                    # temporal subsampling during intialization\n",
    "\n",
    "# parameters for component evaluation\n",
    "min_SNR = 2.0               # signal to noise ratio for accepting a component\n",
    "rval_thr = 0.85              # space correlation threshold for accepting a component\n",
    "cnn_thr = 0.99              # threshold for CNN based classifier\n",
    "cnn_lowest = 0.1 # neurons with cnn probability lower than this value are rejected\n"
   ]
  },
  {
   "cell_type": "markdown",
   "metadata": {},
   "source": [
    "### Create a parameters object\n",
    "You can creating a parameters object by passing all the parameters as a single dictionary. Parameters not defined in the dictionary will assume their default values. The resulting `params` object is a collection of subdictionaries pertaining to the dataset to be analyzed `(params.data)`, motion correction `(params.motion)`, data pre-processing `(params.preprocess)`, initialization `(params.init)`, patch processing `(params.patch)`, spatial and temporal component `(params.spatial), (params.temporal)`, quality evaluation `(params.quality)` and online processing `(params.online)`"
   ]
  },
  {
   "cell_type": "code",
   "execution_count": 5,
   "metadata": {},
   "outputs": [
    {
     "name": "stderr",
     "output_type": "stream",
     "text": [
      "       29358 [params.py:                 set():786] [19234] Changing key fnames in group data from None to ['/home/kpan/caiman_data/example_movies/Sue_2x_3000_40_-46.tif']\n",
      "       29359 [params.py:                 set():786] [19234] Changing key rf in group patch from None to 15\n",
      "       29360 [params.py:                 set():786] [19234] Changing key stride in group patch from None to 6\n",
      "       29361 [params.py:                 set():786] [19234] Changing key p in group preprocess from 2 to 1\n",
      "       29362 [params.py:                 set():786] [19234] Changing key nb in group init from 1 to 2\n",
      "       29362 [params.py:                 set():786] [19234] Changing key K in group init from 30 to 4\n",
      "       29363 [params.py:                 set():786] [19234] Changing key ssub in group init from 2 to 1\n",
      "       29363 [params.py:                 set():786] [19234] Changing key tsub in group init from 2 to 1\n",
      "       29364 [params.py:                 set():786] [19234] Changing key nb in group spatial from 1 to 2\n",
      "       29365 [params.py:                 set():786] [19234] Changing key p in group temporal from 2 to 1\n",
      "       29366 [params.py:                 set():786] [19234] Changing key nb in group temporal from 1 to 2\n",
      "       29366 [params.py:                 set():786] [19234] Changing key merge_thr in group merging from 0.8 to 0.85\n",
      "       29367 [params.py:                 set():786] [19234] Changing key min_SNR in group quality from 2.5 to 2.0\n",
      "       29370 [params.py:                 set():786] [19234] Changing key rval_thr in group quality from 0.8 to 0.85\n",
      "       29371 [params.py:                 set():786] [19234] Changing key min_cnn_thr in group quality from 0.9 to 0.99\n",
      "       29372 [params.py:                 set():786] [19234] Changing key min_SNR in group online from 2.5 to 2.0\n",
      "       29373 [params.py:                 set():786] [19234] Changing key rval_thr in group online from 0.8 to 0.85\n",
      "       29374 [params.py:                 set():786] [19234] Changing key strides in group motion from (96, 96) to (48, 48)\n",
      "       29374 [params.py:                 set():786] [19234] Changing key overlaps in group motion from (32, 32) to (24, 24)\n",
      "       29375 [params.py:                 set():786] [19234] Changing key pw_rigid in group motion from False to True\n"
     ]
    }
   ],
   "source": [
    "opts_dict = {'fnames': fnames,\n",
    "            'fr': fr,\n",
    "            'decay_time': decay_time,\n",
    "            'strides': strides,\n",
    "            'overlaps': overlaps,\n",
    "            'max_shifts': max_shifts,\n",
    "            'max_deviation_rigid': max_deviation_rigid,\n",
    "            'pw_rigid': pw_rigid,\n",
    "            'p': 1,\n",
    "            'nb': gnb,\n",
    "            'rf': rf,\n",
    "            'K': K, \n",
    "            'stride': stride_cnmf,\n",
    "            'method_init': method_init,\n",
    "            'rolling_sum': True,\n",
    "            'only_init': True,\n",
    "            'ssub': ssub,\n",
    "            'tsub': tsub,\n",
    "            'merge_thr': merge_thr, \n",
    "            'min_SNR': min_SNR,\n",
    "            'rval_thr': rval_thr,\n",
    "            'use_cnn': True,\n",
    "            'min_cnn_thr': cnn_thr,\n",
    "            'cnn_lowest': cnn_lowest}\n",
    "\n",
    "opts = params.CNMFParams(params_dict=opts_dict)"
   ]
  },
  {
   "cell_type": "markdown",
   "metadata": {},
   "source": [
    "### Setup a cluster\n",
    "To enable parallel processing a (local) cluster needs to be set up. This is done with a cell below. The variable `backend` determines the type of cluster used. The default value `'local'` uses the multiprocessing package. The `ipyparallel` option is also available. More information on these choices can be found [here](https://github.com/flatironinstitute/CaImAn/blob/master/CLUSTER.md). The resulting variable `dview` expresses the cluster option. If you use `dview=dview` in the downstream analysis then parallel processing will be used. If you use `dview=None` then no parallel processing will be employed."
   ]
  },
  {
   "cell_type": "code",
   "execution_count": 6,
   "metadata": {},
   "outputs": [],
   "source": [
    "#%% start a cluster for parallel processing (if a cluster already exists it will be closed and a new session will be opened)\n",
    "if 'dview' in locals():\n",
    "    cm.stop_server(dview=dview)\n",
    "c, dview, n_processes = cm.cluster.setup_cluster(\n",
    "    backend='local', n_processes=None, single_thread=False)"
   ]
  },
  {
   "cell_type": "markdown",
   "metadata": {},
   "source": [
    "## Motion Correction\n",
    "First we create a motion correction object with the parameters specified. Note that the file is not loaded in memory"
   ]
  },
  {
   "cell_type": "code",
   "execution_count": 7,
   "metadata": {},
   "outputs": [],
   "source": [
    "# first we create a motion correction object with the parameters specified\n",
    "mc = MotionCorrect(fnames, dview=dview, **opts.get_group('motion'))\n",
    "# note that the file is not loaded in memory"
   ]
  },
  {
   "cell_type": "markdown",
   "metadata": {},
   "source": [
    "Now perform motion correction. From the movie above we see that the dateset exhibits non-uniform motion. We will perform piecewise rigid motion correction using the NoRMCorre algorithm. This has already been selected by setting `pw_rigid=True` when defining the parameters object."
   ]
  },
  {
   "cell_type": "code",
   "execution_count": 8,
   "metadata": {},
   "outputs": [
    {
     "name": "stderr",
     "output_type": "stream",
     "text": [
      "       97661 [movies.py:      extract_shifts():253] [19234] Movie average is negative. Removing 1st percentile.\n",
      "       97690 [movies.py:      extract_shifts():271] [19234] Movie average is negative. Removing 1st percentile.\n",
      "       98794 [movies.py:      extract_shifts():253] [19234] Movie average is negative. Removing 1st percentile.\n",
      "       98823 [movies.py:      extract_shifts():271] [19234] Movie average is negative. Removing 1st percentile.\n",
      "       99837 [movies.py:      extract_shifts():253] [19234] Movie average is negative. Removing 1st percentile.\n",
      "       99866 [movies.py:      extract_shifts():271] [19234] Movie average is negative. Removing 1st percentile.\n"
     ]
    }
   ],
   "source": [
    "%%capture\n",
    "#%% Run piecewise-rigid motion correction using NoRMCorre\n",
    "mc.motion_correct(save_movie=True)\n",
    "m_els = cm.load(mc.fname_tot_els)\n",
    "border_to_0 = 0 if mc.border_nan is 'copy' else mc.border_to_0 \n",
    "    # maximum shift to be used for trimming against NaNs"
   ]
  },
  {
   "cell_type": "markdown",
   "metadata": {},
   "source": [
    "Inspect the results by comparing the original movie. A more detailed presentation of the motion correction method can be found in the [demo motion correction](./demo_motion_correction.ipynb) notebook."
   ]
  },
  {
   "cell_type": "code",
   "execution_count": 9,
   "metadata": {},
   "outputs": [],
   "source": [
    "#%% compare with original movie\n",
    "display_movie = False\n",
    "if display_movie:\n",
    "    m_orig = cm.load_movie_chain(fnames)\n",
    "    ds_ratio = 0.2\n",
    "    cm.concatenate([m_orig.resize(1, 1, ds_ratio) - mc.min_mov*mc.nonneg_movie,\n",
    "                    m_els.resize(1, 1, ds_ratio)], \n",
    "                   axis=2).play(fr=60, gain=15, magnification=2, offset=0)  # press q to exit"
   ]
  },
  {
   "cell_type": "markdown",
   "metadata": {},
   "source": [
    "## Memory mapping \n",
    "\n",
    "The cell below memory maps the file in order `'C'` and then loads the new memory mapped file. The saved files from motion correction are memory mapped files stored in `'F'` order. Their paths are stored in `mc.mmap_file`."
   ]
  },
  {
   "cell_type": "code",
   "execution_count": 10,
   "metadata": {},
   "outputs": [],
   "source": [
    "#%% MEMORY MAPPING\n",
    "# memory map the file in order 'C'\n",
    "fname_new = cm.save_memmap(mc.mmap_file, base_name='memmap_', order='C',\n",
    "                           border_to_0=border_to_0) # exclude borders\n",
    "\n",
    "# now load the file\n",
    "Yr, dims, T = cm.load_memmap(fname_new)\n",
    "images = np.reshape(Yr.T, [T] + list(dims), order='F') \n",
    "    #load frames in python format (T x X x Y)"
   ]
  },
  {
   "cell_type": "markdown",
   "metadata": {},
   "source": [
    "Now restart the cluster to clean up the memory"
   ]
  },
  {
   "cell_type": "code",
   "execution_count": 11,
   "metadata": {},
   "outputs": [
    {
     "name": "stderr",
     "output_type": "stream",
     "text": [
      "/home/kpan/miniconda3/envs/caiman/lib/python3.6/site-packages/numpy/core/memmap.py:331: FutureWarning: Using a non-tuple sequence for multidimensional indexing is deprecated; use `arr[tuple(seq)]` instead of `arr[seq]`. In the future this will be interpreted as an array index, `arr[np.array(seq)]`, which will result either in an error or a different result.\n",
      "  res = super(memmap, self).__getitem__(index)\n",
      "/home/kpan/miniconda3/envs/caiman/lib/python3.6/site-packages/numpy/core/memmap.py:331: FutureWarning: Using a non-tuple sequence for multidimensional indexing is deprecated; use `arr[tuple(seq)]` instead of `arr[seq]`. In the future this will be interpreted as an array index, `arr[np.array(seq)]`, which will result either in an error or a different result.\n",
      "  res = super(memmap, self).__getitem__(index)\n",
      "/home/kpan/miniconda3/envs/caiman/lib/python3.6/site-packages/numpy/core/memmap.py:331: FutureWarning: Using a non-tuple sequence for multidimensional indexing is deprecated; use `arr[tuple(seq)]` instead of `arr[seq]`. In the future this will be interpreted as an array index, `arr[np.array(seq)]`, which will result either in an error or a different result.\n",
      "  res = super(memmap, self).__getitem__(index)\n",
      "/home/kpan/miniconda3/envs/caiman/lib/python3.6/site-packages/numpy/core/memmap.py:331: FutureWarning: Using a non-tuple sequence for multidimensional indexing is deprecated; use `arr[tuple(seq)]` instead of `arr[seq]`. In the future this will be interpreted as an array index, `arr[np.array(seq)]`, which will result either in an error or a different result.\n",
      "  res = super(memmap, self).__getitem__(index)\n",
      "/home/kpan/miniconda3/envs/caiman/lib/python3.6/site-packages/numpy/core/memmap.py:331: FutureWarning: Using a non-tuple sequence for multidimensional indexing is deprecated; use `arr[tuple(seq)]` instead of `arr[seq]`. In the future this will be interpreted as an array index, `arr[np.array(seq)]`, which will result either in an error or a different result.\n",
      "  res = super(memmap, self).__getitem__(index)\n",
      "/home/kpan/miniconda3/envs/caiman/lib/python3.6/site-packages/numpy/core/memmap.py:331: FutureWarning: Using a non-tuple sequence for multidimensional indexing is deprecated; use `arr[tuple(seq)]` instead of `arr[seq]`. In the future this will be interpreted as an array index, `arr[np.array(seq)]`, which will result either in an error or a different result.\n",
      "  res = super(memmap, self).__getitem__(index)\n",
      "/home/kpan/miniconda3/envs/caiman/lib/python3.6/site-packages/numpy/core/memmap.py:331: FutureWarning: Using a non-tuple sequence for multidimensional indexing is deprecated; use `arr[tuple(seq)]` instead of `arr[seq]`. In the future this will be interpreted as an array index, `arr[np.array(seq)]`, which will result either in an error or a different result.\n",
      "  res = super(memmap, self).__getitem__(index)\n",
      "/home/kpan/miniconda3/envs/caiman/lib/python3.6/site-packages/numpy/core/memmap.py:331: FutureWarning: Using a non-tuple sequence for multidimensional indexing is deprecated; use `arr[tuple(seq)]` instead of `arr[seq]`. In the future this will be interpreted as an array index, `arr[np.array(seq)]`, which will result either in an error or a different result.\n",
      "  res = super(memmap, self).__getitem__(index)\n",
      "      354872 [params.py:                 set():786] [20247] Changing key n_processes in group patch from 8 to 1\n",
      "      354874 [params.py:                 set():786] [20247] Changing key rf in group patch from 15 to None\n",
      "      354879 [params.py:                 set():786] [20247] Changing key stride in group patch from 6 to None\n",
      "      354884 [params.py:                 set():786] [20247] Changing key nb in group init from 2 to 1\n",
      "      354887 [params.py:                 set():786] [20247] Changing key nb in group temporal from 2 to 1\n",
      "      354887 [params.py:                 set():786] [20250] Changing key n_processes in group patch from 8 to 1\n",
      "      354888 [params.py:                 set():786] [20247] Changing key nb in group spatial from 2 to 1\n",
      "      354888 [params.py:                 set():786] [20250] Changing key rf in group patch from 15 to None\n",
      "      354891 [params.py:                 set():786] [20250] Changing key stride in group patch from 6 to None\n",
      "      354893 [params.py:                 set():786] [20250] Changing key nb in group init from 2 to 1\n",
      "      354890 [cnmf.py:                 fit():413] [20247] Parallel processing in a single patch is not available for loaded in memory or sliced data.\n",
      "      354894 [params.py:                 set():786] [20250] Changing key nb in group temporal from 2 to 1\n",
      "      354900 [params.py:                 set():786] [20250] Changing key nb in group spatial from 2 to 1\n",
      "      354901 [cnmf.py:                 fit():413] [20250] Parallel processing in a single patch is not available for loaded in memory or sliced data.\n",
      "      354943 [params.py:                 set():786] [20246] Changing key n_processes in group patch from 8 to 1\n",
      "      354944 [params.py:                 set():786] [20246] Changing key rf in group patch from 15 to None\n",
      "      354946 [params.py:                 set():786] [20246] Changing key stride in group patch from 6 to None\n",
      "      354947 [params.py:                 set():786] [20246] Changing key nb in group init from 2 to 1\n",
      "      354948 [params.py:                 set():786] [20246] Changing key nb in group temporal from 2 to 1\n",
      "      354949 [params.py:                 set():786] [20246] Changing key nb in group spatial from 2 to 1\n",
      "      354950 [cnmf.py:                 fit():413] [20246] Parallel processing in a single patch is not available for loaded in memory or sliced data.\n",
      "      355046 [params.py:                 set():786] [20245] Changing key n_processes in group patch from 8 to 1\n",
      "      355063 [params.py:                 set():786] [20249] Changing key n_processes in group patch from 8 to 1\n",
      "      355062 [params.py:                 set():786] [20248] Changing key n_processes in group patch from 8 to 1\n",
      "      355072 [params.py:                 set():786] [20245] Changing key rf in group patch from 15 to None\n",
      "      355077 [params.py:                 set():786] [20251] Changing key n_processes in group patch from 8 to 1\n",
      "      355080 [params.py:                 set():786] [20245] Changing key stride in group patch from 6 to None\n",
      "      355079 [params.py:                 set():786] [20251] Changing key rf in group patch from 15 to None\n",
      "      355082 [params.py:                 set():786] [20248] Changing key stride in group patch from 6 to None\n",
      "      355081 [params.py:                 set():786] [20248] Changing key rf in group patch from 15 to None\n",
      "      355064 [params.py:                 set():786] [20244] Changing key n_processes in group patch from 8 to 1\n",
      "      355091 [params.py:                 set():786] [20251] Changing key stride in group patch from 6 to None\n",
      "      355071 [params.py:                 set():786] [20249] Changing key rf in group patch from 15 to None\n",
      "      355092 [params.py:                 set():786] [20244] Changing key rf in group patch from 15 to None\n",
      "      355095 [params.py:                 set():786] [20249] Changing key stride in group patch from 6 to None\n",
      "      355096 [params.py:                 set():786] [20251] Changing key nb in group init from 2 to 1\n",
      "      355097 [params.py:                 set():786] [20244] Changing key stride in group patch from 6 to None\n",
      "      355098 [params.py:                 set():786] [20248] Changing key nb in group init from 2 to 1\n",
      "      355093 [params.py:                 set():786] [20245] Changing key nb in group init from 2 to 1\n",
      "      355098 [params.py:                 set():786] [20249] Changing key nb in group init from 2 to 1\n",
      "      355103 [params.py:                 set():786] [20245] Changing key nb in group temporal from 2 to 1\n",
      "      355101 [params.py:                 set():786] [20251] Changing key nb in group temporal from 2 to 1\n",
      "      355101 [params.py:                 set():786] [20244] Changing key nb in group init from 2 to 1\n",
      "      355100 [params.py:                 set():786] [20248] Changing key nb in group temporal from 2 to 1\n",
      "      355106 [params.py:                 set():786] [20244] Changing key nb in group temporal from 2 to 1\n"
     ]
    },
    {
     "name": "stderr",
     "output_type": "stream",
     "text": [
      "      355110 [params.py:                 set():786] [20245] Changing key nb in group spatial from 2 to 1\n",
      "      355112 [params.py:                 set():786] [20244] Changing key nb in group spatial from 2 to 1\n",
      "      355114 [params.py:                 set():786] [20249] Changing key nb in group temporal from 2 to 1\n",
      "      355118 [cnmf.py:                 fit():413] [20244] Parallel processing in a single patch is not available for loaded in memory or sliced data.\n",
      "      355105 [params.py:                 set():786] [20251] Changing key nb in group spatial from 2 to 1\n",
      "      355113 [params.py:                 set():786] [20248] Changing key nb in group spatial from 2 to 1\n",
      "      355121 [cnmf.py:                 fit():413] [20251] Parallel processing in a single patch is not available for loaded in memory or sliced data.\n",
      "      355116 [cnmf.py:                 fit():413] [20245] Parallel processing in a single patch is not available for loaded in memory or sliced data.\n",
      "      355126 [cnmf.py:                 fit():413] [20248] Parallel processing in a single patch is not available for loaded in memory or sliced data.\n",
      "      355125 [params.py:                 set():786] [20249] Changing key nb in group spatial from 2 to 1\n",
      "      355154 [cnmf.py:                 fit():413] [20249] Parallel processing in a single patch is not available for loaded in memory or sliced data.\n",
      "/home/kpan/miniconda3/envs/caiman/lib/python3.6/site-packages/numpy/core/memmap.py:331: FutureWarning: Using a non-tuple sequence for multidimensional indexing is deprecated; use `arr[tuple(seq)]` instead of `arr[seq]`. In the future this will be interpreted as an array index, `arr[np.array(seq)]`, which will result either in an error or a different result.\n",
      "  res = super(memmap, self).__getitem__(index)\n",
      "      364501 [cnmf.py:                 fit():413] [20250] Parallel processing in a single patch is not available for loaded in memory or sliced data.\n",
      "/home/kpan/miniconda3/envs/caiman/lib/python3.6/site-packages/numpy/core/memmap.py:331: FutureWarning: Using a non-tuple sequence for multidimensional indexing is deprecated; use `arr[tuple(seq)]` instead of `arr[seq]`. In the future this will be interpreted as an array index, `arr[np.array(seq)]`, which will result either in an error or a different result.\n",
      "  res = super(memmap, self).__getitem__(index)\n",
      "/home/kpan/miniconda3/envs/caiman/lib/python3.6/site-packages/numpy/core/memmap.py:331: FutureWarning: Using a non-tuple sequence for multidimensional indexing is deprecated; use `arr[tuple(seq)]` instead of `arr[seq]`. In the future this will be interpreted as an array index, `arr[np.array(seq)]`, which will result either in an error or a different result.\n",
      "  res = super(memmap, self).__getitem__(index)\n",
      "/home/kpan/miniconda3/envs/caiman/lib/python3.6/site-packages/numpy/core/memmap.py:331: FutureWarning: Using a non-tuple sequence for multidimensional indexing is deprecated; use `arr[tuple(seq)]` instead of `arr[seq]`. In the future this will be interpreted as an array index, `arr[np.array(seq)]`, which will result either in an error or a different result.\n",
      "  res = super(memmap, self).__getitem__(index)\n",
      "      364697 [cnmf.py:                 fit():413] [20246] Parallel processing in a single patch is not available for loaded in memory or sliced data.\n",
      "      364713 [cnmf.py:                 fit():413] [20249] Parallel processing in a single patch is not available for loaded in memory or sliced data.\n",
      "      364845 [cnmf.py:                 fit():413] [20248] Parallel processing in a single patch is not available for loaded in memory or sliced data.\n",
      "/home/kpan/miniconda3/envs/caiman/lib/python3.6/site-packages/numpy/core/memmap.py:331: FutureWarning: Using a non-tuple sequence for multidimensional indexing is deprecated; use `arr[tuple(seq)]` instead of `arr[seq]`. In the future this will be interpreted as an array index, `arr[np.array(seq)]`, which will result either in an error or a different result.\n",
      "  res = super(memmap, self).__getitem__(index)\n",
      "/home/kpan/miniconda3/envs/caiman/lib/python3.6/site-packages/numpy/core/memmap.py:331: FutureWarning: Using a non-tuple sequence for multidimensional indexing is deprecated; use `arr[tuple(seq)]` instead of `arr[seq]`. In the future this will be interpreted as an array index, `arr[np.array(seq)]`, which will result either in an error or a different result.\n",
      "  res = super(memmap, self).__getitem__(index)\n",
      "      365078 [cnmf.py:                 fit():413] [20247] Parallel processing in a single patch is not available for loaded in memory or sliced data.\n",
      "      365071 [cnmf.py:                 fit():413] [20251] Parallel processing in a single patch is not available for loaded in memory or sliced data.\n",
      "/home/kpan/miniconda3/envs/caiman/lib/python3.6/site-packages/numpy/core/memmap.py:331: FutureWarning: Using a non-tuple sequence for multidimensional indexing is deprecated; use `arr[tuple(seq)]` instead of `arr[seq]`. In the future this will be interpreted as an array index, `arr[np.array(seq)]`, which will result either in an error or a different result.\n",
      "  res = super(memmap, self).__getitem__(index)\n",
      "      365231 [cnmf.py:                 fit():413] [20244] Parallel processing in a single patch is not available for loaded in memory or sliced data.\n",
      "/home/kpan/miniconda3/envs/caiman/lib/python3.6/site-packages/numpy/core/memmap.py:331: FutureWarning: Using a non-tuple sequence for multidimensional indexing is deprecated; use `arr[tuple(seq)]` instead of `arr[seq]`. In the future this will be interpreted as an array index, `arr[np.array(seq)]`, which will result either in an error or a different result.\n",
      "  res = super(memmap, self).__getitem__(index)\n",
      "      365335 [cnmf.py:                 fit():413] [20245] Parallel processing in a single patch is not available for loaded in memory or sliced data.\n",
      "/home/kpan/miniconda3/envs/caiman/lib/python3.6/site-packages/numpy/core/memmap.py:331: FutureWarning: Using a non-tuple sequence for multidimensional indexing is deprecated; use `arr[tuple(seq)]` instead of `arr[seq]`. In the future this will be interpreted as an array index, `arr[np.array(seq)]`, which will result either in an error or a different result.\n",
      "  res = super(memmap, self).__getitem__(index)\n",
      "      373156 [params.py:                 set():786] [20250] Changing key n_processes in group patch from 8 to 1\n",
      "/home/kpan/miniconda3/envs/caiman/lib/python3.6/site-packages/numpy/core/memmap.py:331: FutureWarning: Using a non-tuple sequence for multidimensional indexing is deprecated; use `arr[tuple(seq)]` instead of `arr[seq]`. In the future this will be interpreted as an array index, `arr[np.array(seq)]`, which will result either in an error or a different result.\n",
      "  res = super(memmap, self).__getitem__(index)\n",
      "      373188 [params.py:                 set():786] [20250] Changing key rf in group patch from 15 to None\n",
      "      373240 [params.py:                 set():786] [20250] Changing key stride in group patch from 6 to None\n",
      "      373266 [params.py:                 set():786] [20250] Changing key nb in group init from 2 to 1\n",
      "      373292 [params.py:                 set():786] [20250] Changing key nb in group temporal from 2 to 1\n",
      "      373329 [params.py:                 set():786] [20250] Changing key nb in group spatial from 2 to 1\n",
      "      373346 [cnmf.py:                 fit():413] [20250] Parallel processing in a single patch is not available for loaded in memory or sliced data.\n",
      "      373374 [params.py:                 set():786] [20249] Changing key n_processes in group patch from 8 to 1\n",
      "      373436 [params.py:                 set():786] [20249] Changing key rf in group patch from 15 to None\n",
      "      373469 [params.py:                 set():786] [20249] Changing key stride in group patch from 6 to None\n",
      "      373498 [params.py:                 set():786] [20249] Changing key nb in group init from 2 to 1\n",
      "      373519 [params.py:                 set():786] [20249] Changing key nb in group temporal from 2 to 1\n",
      "      373553 [params.py:                 set():786] [20249] Changing key nb in group spatial from 2 to 1\n",
      "      373579 [cnmf.py:                 fit():413] [20249] Parallel processing in a single patch is not available for loaded in memory or sliced data.\n"
     ]
    },
    {
     "name": "stderr",
     "output_type": "stream",
     "text": [
      "/home/kpan/miniconda3/envs/caiman/lib/python3.6/site-packages/numpy/core/memmap.py:331: FutureWarning: Using a non-tuple sequence for multidimensional indexing is deprecated; use `arr[tuple(seq)]` instead of `arr[seq]`. In the future this will be interpreted as an array index, `arr[np.array(seq)]`, which will result either in an error or a different result.\n",
      "  res = super(memmap, self).__getitem__(index)\n",
      "/home/kpan/miniconda3/envs/caiman/lib/python3.6/site-packages/numpy/core/memmap.py:331: FutureWarning: Using a non-tuple sequence for multidimensional indexing is deprecated; use `arr[tuple(seq)]` instead of `arr[seq]`. In the future this will be interpreted as an array index, `arr[np.array(seq)]`, which will result either in an error or a different result.\n",
      "  res = super(memmap, self).__getitem__(index)\n",
      "      373800 [params.py:                 set():786] [20246] Changing key n_processes in group patch from 8 to 1\n",
      "      373848 [params.py:                 set():786] [20246] Changing key rf in group patch from 15 to None\n",
      "      373872 [params.py:                 set():786] [20246] Changing key stride in group patch from 6 to None\n",
      "      373906 [params.py:                 set():786] [20246] Changing key nb in group init from 2 to 1\n",
      "      373900 [params.py:                 set():786] [20247] Changing key n_processes in group patch from 8 to 1\n",
      "      373930 [params.py:                 set():786] [20247] Changing key rf in group patch from 15 to None\n",
      "      373929 [params.py:                 set():786] [20246] Changing key nb in group temporal from 2 to 1\n",
      "/home/kpan/miniconda3/envs/caiman/lib/python3.6/site-packages/numpy/core/memmap.py:331: FutureWarning: Using a non-tuple sequence for multidimensional indexing is deprecated; use `arr[tuple(seq)]` instead of `arr[seq]`. In the future this will be interpreted as an array index, `arr[np.array(seq)]`, which will result either in an error or a different result.\n",
      "  res = super(memmap, self).__getitem__(index)\n",
      "      373946 [params.py:                 set():786] [20247] Changing key stride in group patch from 6 to None\n",
      "      373933 [params.py:                 set():786] [20246] Changing key nb in group spatial from 2 to 1\n",
      "      373959 [cnmf.py:                 fit():413] [20246] Parallel processing in a single patch is not available for loaded in memory or sliced data.\n",
      "      373970 [params.py:                 set():786] [20247] Changing key nb in group init from 2 to 1\n",
      "      374005 [params.py:                 set():786] [20247] Changing key nb in group temporal from 2 to 1\n",
      "      374020 [params.py:                 set():786] [20247] Changing key nb in group spatial from 2 to 1\n",
      "      374047 [cnmf.py:                 fit():413] [20247] Parallel processing in a single patch is not available for loaded in memory or sliced data.\n",
      "      374072 [params.py:                 set():786] [20251] Changing key n_processes in group patch from 8 to 1\n",
      "      374125 [params.py:                 set():786] [20251] Changing key rf in group patch from 15 to None\n",
      "      374166 [params.py:                 set():786] [20251] Changing key stride in group patch from 6 to None\n",
      "      374175 [params.py:                 set():786] [20251] Changing key nb in group init from 2 to 1\n",
      "      374199 [params.py:                 set():786] [20251] Changing key nb in group temporal from 2 to 1\n",
      "      374225 [params.py:                 set():786] [20251] Changing key nb in group spatial from 2 to 1\n",
      "      374243 [cnmf.py:                 fit():413] [20251] Parallel processing in a single patch is not available for loaded in memory or sliced data.\n",
      "/home/kpan/miniconda3/envs/caiman/lib/python3.6/site-packages/numpy/core/memmap.py:331: FutureWarning: Using a non-tuple sequence for multidimensional indexing is deprecated; use `arr[tuple(seq)]` instead of `arr[seq]`. In the future this will be interpreted as an array index, `arr[np.array(seq)]`, which will result either in an error or a different result.\n",
      "  res = super(memmap, self).__getitem__(index)\n",
      "/home/kpan/miniconda3/envs/caiman/lib/python3.6/site-packages/numpy/core/memmap.py:331: FutureWarning: Using a non-tuple sequence for multidimensional indexing is deprecated; use `arr[tuple(seq)]` instead of `arr[seq]`. In the future this will be interpreted as an array index, `arr[np.array(seq)]`, which will result either in an error or a different result.\n",
      "  res = super(memmap, self).__getitem__(index)\n",
      "      374531 [params.py:                 set():786] [20245] Changing key n_processes in group patch from 8 to 1\n",
      "      374543 [params.py:                 set():786] [20245] Changing key rf in group patch from 15 to None\n",
      "      374545 [params.py:                 set():786] [20245] Changing key stride in group patch from 6 to None\n",
      "      374556 [params.py:                 set():786] [20245] Changing key nb in group init from 2 to 1\n",
      "/home/kpan/miniconda3/envs/caiman/lib/python3.6/site-packages/numpy/core/memmap.py:331: FutureWarning: Using a non-tuple sequence for multidimensional indexing is deprecated; use `arr[tuple(seq)]` instead of `arr[seq]`. In the future this will be interpreted as an array index, `arr[np.array(seq)]`, which will result either in an error or a different result.\n",
      "  res = super(memmap, self).__getitem__(index)\n",
      "      374568 [params.py:                 set():786] [20245] Changing key nb in group temporal from 2 to 1\n",
      "      374568 [params.py:                 set():786] [20248] Changing key n_processes in group patch from 8 to 1\n",
      "      374582 [params.py:                 set():786] [20248] Changing key rf in group patch from 15 to None\n",
      "      374585 [params.py:                 set():786] [20245] Changing key nb in group spatial from 2 to 1\n",
      "      374601 [params.py:                 set():786] [20248] Changing key stride in group patch from 6 to None\n",
      "      374600 [cnmf.py:                 fit():413] [20245] Parallel processing in a single patch is not available for loaded in memory or sliced data.\n",
      "      374620 [params.py:                 set():786] [20248] Changing key nb in group init from 2 to 1\n",
      "      374636 [params.py:                 set():786] [20248] Changing key nb in group temporal from 2 to 1\n",
      "      374661 [params.py:                 set():786] [20244] Changing key n_processes in group patch from 8 to 1\n",
      "      374658 [params.py:                 set():786] [20248] Changing key nb in group spatial from 2 to 1\n",
      "      374676 [cnmf.py:                 fit():413] [20248] Parallel processing in a single patch is not available for loaded in memory or sliced data.\n",
      "      374683 [params.py:                 set():786] [20244] Changing key rf in group patch from 15 to None\n",
      "      374719 [params.py:                 set():786] [20244] Changing key stride in group patch from 6 to None\n",
      "      374741 [params.py:                 set():786] [20244] Changing key nb in group init from 2 to 1\n",
      "      374760 [params.py:                 set():786] [20244] Changing key nb in group temporal from 2 to 1\n",
      "      374777 [params.py:                 set():786] [20244] Changing key nb in group spatial from 2 to 1\n",
      "      374791 [cnmf.py:                 fit():413] [20244] Parallel processing in a single patch is not available for loaded in memory or sliced data.\n",
      "/home/kpan/miniconda3/envs/caiman/lib/python3.6/site-packages/numpy/core/memmap.py:331: FutureWarning: Using a non-tuple sequence for multidimensional indexing is deprecated; use `arr[tuple(seq)]` instead of `arr[seq]`. In the future this will be interpreted as an array index, `arr[np.array(seq)]`, which will result either in an error or a different result.\n",
      "  res = super(memmap, self).__getitem__(index)\n",
      "      381896 [cnmf.py:                 fit():413] [20247] Parallel processing in a single patch is not available for loaded in memory or sliced data.\n",
      "/home/kpan/miniconda3/envs/caiman/lib/python3.6/site-packages/numpy/core/memmap.py:331: FutureWarning: Using a non-tuple sequence for multidimensional indexing is deprecated; use `arr[tuple(seq)]` instead of `arr[seq]`. In the future this will be interpreted as an array index, `arr[np.array(seq)]`, which will result either in an error or a different result.\n",
      "  res = super(memmap, self).__getitem__(index)\n",
      "/home/kpan/miniconda3/envs/caiman/lib/python3.6/site-packages/numpy/core/memmap.py:331: FutureWarning: Using a non-tuple sequence for multidimensional indexing is deprecated; use `arr[tuple(seq)]` instead of `arr[seq]`. In the future this will be interpreted as an array index, `arr[np.array(seq)]`, which will result either in an error or a different result.\n",
      "  res = super(memmap, self).__getitem__(index)\n"
     ]
    },
    {
     "name": "stderr",
     "output_type": "stream",
     "text": [
      "      382189 [cnmf.py:                 fit():413] [20249] Parallel processing in a single patch is not available for loaded in memory or sliced data.\n",
      "      382223 [cnmf.py:                 fit():413] [20250] Parallel processing in a single patch is not available for loaded in memory or sliced data.\n",
      "/home/kpan/miniconda3/envs/caiman/lib/python3.6/site-packages/numpy/core/memmap.py:331: FutureWarning: Using a non-tuple sequence for multidimensional indexing is deprecated; use `arr[tuple(seq)]` instead of `arr[seq]`. In the future this will be interpreted as an array index, `arr[np.array(seq)]`, which will result either in an error or a different result.\n",
      "  res = super(memmap, self).__getitem__(index)\n",
      "      382695 [cnmf.py:                 fit():413] [20246] Parallel processing in a single patch is not available for loaded in memory or sliced data.\n",
      "/home/kpan/miniconda3/envs/caiman/lib/python3.6/site-packages/numpy/core/memmap.py:331: FutureWarning: Using a non-tuple sequence for multidimensional indexing is deprecated; use `arr[tuple(seq)]` instead of `arr[seq]`. In the future this will be interpreted as an array index, `arr[np.array(seq)]`, which will result either in an error or a different result.\n",
      "  res = super(memmap, self).__getitem__(index)\n",
      "      383014 [cnmf.py:                 fit():413] [20251] Parallel processing in a single patch is not available for loaded in memory or sliced data.\n",
      "/home/kpan/miniconda3/envs/caiman/lib/python3.6/site-packages/numpy/core/memmap.py:331: FutureWarning: Using a non-tuple sequence for multidimensional indexing is deprecated; use `arr[tuple(seq)]` instead of `arr[seq]`. In the future this will be interpreted as an array index, `arr[np.array(seq)]`, which will result either in an error or a different result.\n",
      "  res = super(memmap, self).__getitem__(index)\n",
      "/home/kpan/miniconda3/envs/caiman/lib/python3.6/site-packages/numpy/core/memmap.py:331: FutureWarning: Using a non-tuple sequence for multidimensional indexing is deprecated; use `arr[tuple(seq)]` instead of `arr[seq]`. In the future this will be interpreted as an array index, `arr[np.array(seq)]`, which will result either in an error or a different result.\n",
      "  res = super(memmap, self).__getitem__(index)\n",
      "      383131 [cnmf.py:                 fit():413] [20245] Parallel processing in a single patch is not available for loaded in memory or sliced data.\n",
      "      383187 [cnmf.py:                 fit():413] [20248] Parallel processing in a single patch is not available for loaded in memory or sliced data.\n",
      "/home/kpan/miniconda3/envs/caiman/lib/python3.6/site-packages/numpy/core/memmap.py:331: FutureWarning: Using a non-tuple sequence for multidimensional indexing is deprecated; use `arr[tuple(seq)]` instead of `arr[seq]`. In the future this will be interpreted as an array index, `arr[np.array(seq)]`, which will result either in an error or a different result.\n",
      "  res = super(memmap, self).__getitem__(index)\n",
      "      383772 [cnmf.py:                 fit():413] [20244] Parallel processing in a single patch is not available for loaded in memory or sliced data.\n",
      "/home/kpan/miniconda3/envs/caiman/lib/python3.6/site-packages/numpy/core/memmap.py:331: FutureWarning: Using a non-tuple sequence for multidimensional indexing is deprecated; use `arr[tuple(seq)]` instead of `arr[seq]`. In the future this will be interpreted as an array index, `arr[np.array(seq)]`, which will result either in an error or a different result.\n",
      "  res = super(memmap, self).__getitem__(index)\n",
      "      389480 [params.py:                 set():786] [20249] Changing key n_processes in group patch from 8 to 1\n",
      "      389516 [params.py:                 set():786] [20249] Changing key rf in group patch from 15 to None\n",
      "      389548 [params.py:                 set():786] [20249] Changing key stride in group patch from 6 to None\n",
      "      389593 [params.py:                 set():786] [20249] Changing key nb in group init from 2 to 1\n",
      "      389618 [params.py:                 set():786] [20249] Changing key nb in group temporal from 2 to 1\n",
      "      389644 [params.py:                 set():786] [20249] Changing key nb in group spatial from 2 to 1\n",
      "      389669 [cnmf.py:                 fit():413] [20249] Parallel processing in a single patch is not available for loaded in memory or sliced data.\n",
      "/home/kpan/miniconda3/envs/caiman/lib/python3.6/site-packages/numpy/core/memmap.py:331: FutureWarning: Using a non-tuple sequence for multidimensional indexing is deprecated; use `arr[tuple(seq)]` instead of `arr[seq]`. In the future this will be interpreted as an array index, `arr[np.array(seq)]`, which will result either in an error or a different result.\n",
      "  res = super(memmap, self).__getitem__(index)\n",
      "      390334 [params.py:                 set():786] [20247] Changing key n_processes in group patch from 8 to 1\n",
      "      390377 [params.py:                 set():786] [20247] Changing key rf in group patch from 15 to None\n",
      "/home/kpan/miniconda3/envs/caiman/lib/python3.6/site-packages/numpy/core/memmap.py:331: FutureWarning: Using a non-tuple sequence for multidimensional indexing is deprecated; use `arr[tuple(seq)]` instead of `arr[seq]`. In the future this will be interpreted as an array index, `arr[np.array(seq)]`, which will result either in an error or a different result.\n",
      "  res = super(memmap, self).__getitem__(index)\n",
      "      390409 [params.py:                 set():786] [20247] Changing key stride in group patch from 6 to None\n",
      "      390444 [params.py:                 set():786] [20247] Changing key nb in group init from 2 to 1\n",
      "/home/kpan/miniconda3/envs/caiman/lib/python3.6/site-packages/numpy/core/memmap.py:331: FutureWarning: Using a non-tuple sequence for multidimensional indexing is deprecated; use `arr[tuple(seq)]` instead of `arr[seq]`. In the future this will be interpreted as an array index, `arr[np.array(seq)]`, which will result either in an error or a different result.\n",
      "  res = super(memmap, self).__getitem__(index)\n",
      "      390466 [params.py:                 set():786] [20247] Changing key nb in group temporal from 2 to 1\n",
      "      390486 [params.py:                 set():786] [20247] Changing key nb in group spatial from 2 to 1\n",
      "      390506 [cnmf.py:                 fit():413] [20247] Parallel processing in a single patch is not available for loaded in memory or sliced data.\n",
      "      390678 [params.py:                 set():786] [20250] Changing key n_processes in group patch from 8 to 1\n",
      "      390675 [params.py:                 set():786] [20246] Changing key n_processes in group patch from 8 to 1\n",
      "      390705 [params.py:                 set():786] [20250] Changing key rf in group patch from 15 to None\n",
      "      390729 [params.py:                 set():786] [20250] Changing key stride in group patch from 6 to None\n",
      "      390725 [params.py:                 set():786] [20246] Changing key rf in group patch from 15 to None\n",
      "      390736 [params.py:                 set():786] [20250] Changing key nb in group init from 2 to 1\n",
      "      390744 [params.py:                 set():786] [20246] Changing key stride in group patch from 6 to None\n",
      "      390788 [params.py:                 set():786] [20246] Changing key nb in group init from 2 to 1\n",
      "      390768 [params.py:                 set():786] [20250] Changing key nb in group temporal from 2 to 1\n",
      "      390812 [params.py:                 set():786] [20246] Changing key nb in group temporal from 2 to 1\n",
      "      390819 [params.py:                 set():786] [20250] Changing key nb in group spatial from 2 to 1\n",
      "      390840 [params.py:                 set():786] [20246] Changing key nb in group spatial from 2 to 1\n",
      "      390846 [cnmf.py:                 fit():413] [20250] Parallel processing in a single patch is not available for loaded in memory or sliced data.\n",
      "      390870 [cnmf.py:                 fit():413] [20246] Parallel processing in a single patch is not available for loaded in memory or sliced data.\n",
      "/home/kpan/miniconda3/envs/caiman/lib/python3.6/site-packages/numpy/core/memmap.py:331: FutureWarning: Using a non-tuple sequence for multidimensional indexing is deprecated; use `arr[tuple(seq)]` instead of `arr[seq]`. In the future this will be interpreted as an array index, `arr[np.array(seq)]`, which will result either in an error or a different result.\n",
      "  res = super(memmap, self).__getitem__(index)\n"
     ]
    },
    {
     "name": "stderr",
     "output_type": "stream",
     "text": [
      "/home/kpan/miniconda3/envs/caiman/lib/python3.6/site-packages/numpy/core/memmap.py:331: FutureWarning: Using a non-tuple sequence for multidimensional indexing is deprecated; use `arr[tuple(seq)]` instead of `arr[seq]`. In the future this will be interpreted as an array index, `arr[np.array(seq)]`, which will result either in an error or a different result.\n",
      "  res = super(memmap, self).__getitem__(index)\n",
      "      391615 [params.py:                 set():786] [20251] Changing key n_processes in group patch from 8 to 1\n",
      "      391619 [params.py:                 set():786] [20245] Changing key n_processes in group patch from 8 to 1\n",
      "      391635 [params.py:                 set():786] [20251] Changing key rf in group patch from 15 to None\n",
      "      391643 [params.py:                 set():786] [20245] Changing key rf in group patch from 15 to None\n",
      "      391657 [params.py:                 set():786] [20245] Changing key stride in group patch from 6 to None\n",
      "      391669 [params.py:                 set():786] [20245] Changing key nb in group init from 2 to 1\n",
      "      391660 [params.py:                 set():786] [20251] Changing key stride in group patch from 6 to None\n",
      "      391677 [params.py:                 set():786] [20245] Changing key nb in group temporal from 2 to 1\n",
      "      391678 [params.py:                 set():786] [20251] Changing key nb in group init from 2 to 1\n",
      "      391689 [params.py:                 set():786] [20251] Changing key nb in group temporal from 2 to 1\n",
      "      391692 [params.py:                 set():786] [20245] Changing key nb in group spatial from 2 to 1\n",
      "      391697 [cnmf.py:                 fit():413] [20245] Parallel processing in a single patch is not available for loaded in memory or sliced data.\n",
      "      391705 [params.py:                 set():786] [20251] Changing key nb in group spatial from 2 to 1\n",
      "/home/kpan/miniconda3/envs/caiman/lib/python3.6/site-packages/numpy/core/memmap.py:331: FutureWarning: Using a non-tuple sequence for multidimensional indexing is deprecated; use `arr[tuple(seq)]` instead of `arr[seq]`. In the future this will be interpreted as an array index, `arr[np.array(seq)]`, which will result either in an error or a different result.\n",
      "  res = super(memmap, self).__getitem__(index)\n",
      "      391714 [cnmf.py:                 fit():413] [20251] Parallel processing in a single patch is not available for loaded in memory or sliced data.\n",
      "      391785 [params.py:                 set():786] [20248] Changing key n_processes in group patch from 8 to 1\n",
      "      391806 [params.py:                 set():786] [20248] Changing key rf in group patch from 15 to None\n",
      "      391835 [params.py:                 set():786] [20248] Changing key stride in group patch from 6 to None\n",
      "      391859 [params.py:                 set():786] [20248] Changing key nb in group init from 2 to 1\n",
      "      391878 [params.py:                 set():786] [20248] Changing key nb in group temporal from 2 to 1\n",
      "      391892 [params.py:                 set():786] [20248] Changing key nb in group spatial from 2 to 1\n",
      "      391916 [cnmf.py:                 fit():413] [20248] Parallel processing in a single patch is not available for loaded in memory or sliced data.\n",
      "/home/kpan/miniconda3/envs/caiman/lib/python3.6/site-packages/numpy/core/memmap.py:331: FutureWarning: Using a non-tuple sequence for multidimensional indexing is deprecated; use `arr[tuple(seq)]` instead of `arr[seq]`. In the future this will be interpreted as an array index, `arr[np.array(seq)]`, which will result either in an error or a different result.\n",
      "  res = super(memmap, self).__getitem__(index)\n",
      "      393014 [params.py:                 set():786] [20244] Changing key n_processes in group patch from 8 to 1\n",
      "      393037 [params.py:                 set():786] [20244] Changing key rf in group patch from 15 to None\n",
      "      393049 [params.py:                 set():786] [20244] Changing key stride in group patch from 6 to None\n",
      "      393054 [params.py:                 set():786] [20244] Changing key nb in group init from 2 to 1\n",
      "      393065 [params.py:                 set():786] [20244] Changing key nb in group temporal from 2 to 1\n",
      "      393077 [params.py:                 set():786] [20244] Changing key nb in group spatial from 2 to 1\n",
      "      393087 [cnmf.py:                 fit():413] [20244] Parallel processing in a single patch is not available for loaded in memory or sliced data.\n",
      "/home/kpan/miniconda3/envs/caiman/lib/python3.6/site-packages/numpy/core/memmap.py:331: FutureWarning: Using a non-tuple sequence for multidimensional indexing is deprecated; use `arr[tuple(seq)]` instead of `arr[seq]`. In the future this will be interpreted as an array index, `arr[np.array(seq)]`, which will result either in an error or a different result.\n",
      "  res = super(memmap, self).__getitem__(index)\n",
      "      397484 [cnmf.py:                 fit():413] [20249] Parallel processing in a single patch is not available for loaded in memory or sliced data.\n",
      "/home/kpan/miniconda3/envs/caiman/lib/python3.6/site-packages/numpy/core/memmap.py:331: FutureWarning: Using a non-tuple sequence for multidimensional indexing is deprecated; use `arr[tuple(seq)]` instead of `arr[seq]`. In the future this will be interpreted as an array index, `arr[np.array(seq)]`, which will result either in an error or a different result.\n",
      "  res = super(memmap, self).__getitem__(index)\n",
      "      397787 [cnmf.py:                 fit():413] [20246] Parallel processing in a single patch is not available for loaded in memory or sliced data.\n",
      "/home/kpan/miniconda3/envs/caiman/lib/python3.6/site-packages/numpy/core/memmap.py:331: FutureWarning: Using a non-tuple sequence for multidimensional indexing is deprecated; use `arr[tuple(seq)]` instead of `arr[seq]`. In the future this will be interpreted as an array index, `arr[np.array(seq)]`, which will result either in an error or a different result.\n",
      "  res = super(memmap, self).__getitem__(index)\n",
      "      398742 [cnmf.py:                 fit():413] [20247] Parallel processing in a single patch is not available for loaded in memory or sliced data.\n",
      "/home/kpan/miniconda3/envs/caiman/lib/python3.6/site-packages/numpy/core/memmap.py:331: FutureWarning: Using a non-tuple sequence for multidimensional indexing is deprecated; use `arr[tuple(seq)]` instead of `arr[seq]`. In the future this will be interpreted as an array index, `arr[np.array(seq)]`, which will result either in an error or a different result.\n",
      "  res = super(memmap, self).__getitem__(index)\n",
      "      399318 [cnmf.py:                 fit():413] [20250] Parallel processing in a single patch is not available for loaded in memory or sliced data.\n",
      "/home/kpan/miniconda3/envs/caiman/lib/python3.6/site-packages/numpy/core/memmap.py:331: FutureWarning: Using a non-tuple sequence for multidimensional indexing is deprecated; use `arr[tuple(seq)]` instead of `arr[seq]`. In the future this will be interpreted as an array index, `arr[np.array(seq)]`, which will result either in an error or a different result.\n",
      "  res = super(memmap, self).__getitem__(index)\n",
      "      399532 [cnmf.py:                 fit():413] [20251] Parallel processing in a single patch is not available for loaded in memory or sliced data.\n",
      "/home/kpan/miniconda3/envs/caiman/lib/python3.6/site-packages/numpy/core/memmap.py:331: FutureWarning: Using a non-tuple sequence for multidimensional indexing is deprecated; use `arr[tuple(seq)]` instead of `arr[seq]`. In the future this will be interpreted as an array index, `arr[np.array(seq)]`, which will result either in an error or a different result.\n",
      "  res = super(memmap, self).__getitem__(index)\n",
      "      399881 [cnmf.py:                 fit():413] [20245] Parallel processing in a single patch is not available for loaded in memory or sliced data.\n",
      "/home/kpan/miniconda3/envs/caiman/lib/python3.6/site-packages/numpy/core/memmap.py:331: FutureWarning: Using a non-tuple sequence for multidimensional indexing is deprecated; use `arr[tuple(seq)]` instead of `arr[seq]`. In the future this will be interpreted as an array index, `arr[np.array(seq)]`, which will result either in an error or a different result.\n",
      "  res = super(memmap, self).__getitem__(index)\n",
      "      400213 [cnmf.py:                 fit():413] [20248] Parallel processing in a single patch is not available for loaded in memory or sliced data.\n"
     ]
    },
    {
     "name": "stderr",
     "output_type": "stream",
     "text": [
      "/home/kpan/miniconda3/envs/caiman/lib/python3.6/site-packages/numpy/core/memmap.py:331: FutureWarning: Using a non-tuple sequence for multidimensional indexing is deprecated; use `arr[tuple(seq)]` instead of `arr[seq]`. In the future this will be interpreted as an array index, `arr[np.array(seq)]`, which will result either in an error or a different result.\n",
      "  res = super(memmap, self).__getitem__(index)\n",
      "      404214 [cnmf.py:                 fit():413] [20244] Parallel processing in a single patch is not available for loaded in memory or sliced data.\n",
      "/home/kpan/miniconda3/envs/caiman/lib/python3.6/site-packages/numpy/core/memmap.py:331: FutureWarning: Using a non-tuple sequence for multidimensional indexing is deprecated; use `arr[tuple(seq)]` instead of `arr[seq]`. In the future this will be interpreted as an array index, `arr[np.array(seq)]`, which will result either in an error or a different result.\n",
      "  res = super(memmap, self).__getitem__(index)\n",
      "      406053 [params.py:                 set():786] [20246] Changing key n_processes in group patch from 8 to 1\n",
      "      406096 [params.py:                 set():786] [20246] Changing key rf in group patch from 15 to None\n",
      "      406127 [params.py:                 set():786] [20246] Changing key stride in group patch from 6 to None\n",
      "      406162 [params.py:                 set():786] [20246] Changing key nb in group init from 2 to 1\n",
      "      406190 [params.py:                 set():786] [20246] Changing key nb in group temporal from 2 to 1\n",
      "      406234 [params.py:                 set():786] [20246] Changing key nb in group spatial from 2 to 1\n",
      "      406275 [cnmf.py:                 fit():413] [20246] Parallel processing in a single patch is not available for loaded in memory or sliced data.\n"
     ]
    }
   ],
   "source": [
    "#%% restart cluster to clean up memory\n",
    "cm.stop_server(dview=dview)\n",
    "c, dview, n_processes = cm.cluster.setup_cluster(\n",
    "    backend='local', n_processes=None, single_thread=False)"
   ]
  },
  {
   "cell_type": "markdown",
   "metadata": {},
   "source": [
    "## Run CNMF on patches in parallel\n",
    "\n",
    "<p> <img src=\"../../docs/img/cnmf1.png\" /> </p>\n",
    "\n",
    "- The FOV is split is different overlapping patches that are subsequently processed in parallel by the CNMF algorithm.\n",
    "- The results from all the patches are merged with special attention to idendtified components on the border.\n",
    "- The results are then refined by additional CNMF iterations."
   ]
  },
  {
   "cell_type": "code",
   "execution_count": 12,
   "metadata": {},
   "outputs": [
    {
     "name": "stderr",
     "output_type": "stream",
     "text": [
      "      354787 [params.py:                 set():786] [19234] Changing key p in group preprocess from 1 to 0\n",
      "      354788 [params.py:                 set():786] [19234] Changing key p in group temporal from 1 to 0\n",
      "      354788 [params.py:                 set():786] [19234] Changing key n_processes in group patch from 1 to 8\n",
      "      354789 [params.py:                 set():786] [19234] Changing key init_batch in group online from 200 to 3000\n",
      "      354791 [params.py:                 set():786] [19234] Changing key medw in group spatial from None to (3, 3)\n",
      "      354795 [params.py:                 set():786] [19234] Changing key se in group spatial from None to [[1 1 1]\n",
      " [1 1 1]\n",
      " [1 1 1]]\n",
      "      354797 [params.py:                 set():786] [19234] Changing key ss in group spatial from None to [[1 1 1]\n",
      " [1 1 1]\n",
      " [1 1 1]]\n",
      "      354798 [params.py:                 set():786] [19234] Changing key n_pixels_per_process in group preprocess from None to 1647\n",
      "      354799 [params.py:                 set():786] [19234] Changing key n_pixels_per_process in group spatial from None to 1647\n",
      "      354800 [params.py:                 set():786] [19234] Changing key n_pixels_per_process in group preprocess from 1647 to 225\n",
      "      354802 [params.py:                 set():786] [19234] Changing key n_pixels_per_process in group spatial from 1647 to 225\n"
     ]
    }
   ],
   "source": [
    "%%capture\n",
    "#%% RUN CNMF ON PATCHES\n",
    "\n",
    "# First extract spatial and temporal components on patches and combine them\n",
    "# for this step deconvolution is turned off (p=0)\n",
    "opts.change_params({'p': 0})\n",
    "cnm = cnmf.CNMF(n_processes, params=opts, dview=dview)\n",
    "cnm = cnm.fit(images)"
   ]
  },
  {
   "cell_type": "markdown",
   "metadata": {},
   "source": [
    "## Run the entire pipeline up to this point with one command\n",
    "It is possible to run the combined steps of motion correction, memory mapping, and cnmf fitting in one step as shown below. The command is commented out since the analysis has already been performed. It is recommended that you familiriaze yourself with the various steps and the results of the various steps before using it."
   ]
  },
  {
   "cell_type": "code",
   "execution_count": null,
   "metadata": {},
   "outputs": [],
   "source": [
    "# cnm1 = cnmf.CNMF(n_processes, params=opts, dview=dview)\n",
    "# cnm1.fit_file(motion_correct=True)"
   ]
  },
  {
   "cell_type": "markdown",
   "metadata": {},
   "source": [
    "### Inspecting the results\n",
    "Briefly inspect the results by plotting contours of identified components against correlation image.\n",
    "The results of the algorithm are stored in the object `cnm.estimates`. More information can be found in the definition of the `estimates` object and in the [wiki](https://github.com/flatironinstitute/CaImAn/wiki/Interpreting-Results)."
   ]
  },
  {
   "cell_type": "code",
   "execution_count": null,
   "metadata": {
    "scrolled": false
   },
   "outputs": [],
   "source": [
    "#%% plot contours of found components\n",
    "Cn = cm.local_correlations(images.transpose(1,2,0))\n",
    "Cn[np.isnan(Cn)] = 0\n",
    "cnm.estimates.plot_contours_nb(img=Cn)"
   ]
  },
  {
   "cell_type": "markdown",
   "metadata": {},
   "source": [
    "## Re-run (seeded) CNMF  on the full Field of View  \n",
    "You can re-run the CNMF algorithm seeded on just the selected components from the previous step. Be careful, because components rejected on the previous step will not be recovered here."
   ]
  },
  {
   "cell_type": "code",
   "execution_count": null,
   "metadata": {},
   "outputs": [],
   "source": [
    "%%capture\n",
    "#%% RE-RUN seeded CNMF on accepted patches to refine and perform deconvolution \n",
    "cnm.params.change_params({'p': p})\n",
    "cnm2 = cnm.refit(images, dview=dview)"
   ]
  },
  {
   "cell_type": "markdown",
   "metadata": {},
   "source": [
    "## Component Evaluation\n",
    "\n",
    "The processing in patches creates several spurious components. These are filtered out by evaluating each component using three different criteria:\n",
    "\n",
    "- the shape of each component must be correlated with the data at the corresponding location within the FOV\n",
    "- a minimum peak SNR is required over the length of a transient\n",
    "- each shape passes a CNN based classifier\n",
    "\n",
    "<img src=\"../../docs/img/evaluationcomponent.png\"/>"
   ]
  },
  {
   "cell_type": "code",
   "execution_count": null,
   "metadata": {},
   "outputs": [],
   "source": [
    "#%% COMPONENT EVALUATION\n",
    "# the components are evaluated in three ways:\n",
    "#   a) the shape of each component must be correlated with the data\n",
    "#   b) a minimum peak SNR is required over the length of a transient\n",
    "#   c) each shape passes a CNN based classifier\n",
    "\n",
    "cnm2.estimates.evaluate_components(images, cnm2.params, dview=dview)"
   ]
  },
  {
   "cell_type": "markdown",
   "metadata": {},
   "source": [
    "Plot contours of selected and rejected components"
   ]
  },
  {
   "cell_type": "code",
   "execution_count": null,
   "metadata": {},
   "outputs": [],
   "source": [
    "#%% PLOT COMPONENTS\n",
    "cnm2.estimates.plot_contours_nb(img=Cn, idx=cnm2.estimates.idx_components)"
   ]
  },
  {
   "cell_type": "markdown",
   "metadata": {},
   "source": [
    "View traces of accepted and rejected components. Note that if you get data rate error you can start Jupyter notebooks using:\n",
    "'jupyter notebook --NotebookApp.iopub_data_rate_limit=1.0e10'"
   ]
  },
  {
   "cell_type": "code",
   "execution_count": null,
   "metadata": {},
   "outputs": [],
   "source": [
    "# accepted components\n",
    "cnm2.estimates.nb_view_components(img=Cn, idx=cnm2.estimates.idx_components)"
   ]
  },
  {
   "cell_type": "code",
   "execution_count": null,
   "metadata": {},
   "outputs": [],
   "source": [
    "# rejected components\n",
    "if len(cnm2.estimates.idx_components_bad) > 0:\n",
    "    cnm2.estimates.nb_view_components(img=Cn, idx=cnm2.estimates.idx_components_bad)\n",
    "else:\n",
    "    print(\"No components were rejected.\")"
   ]
  },
  {
   "cell_type": "markdown",
   "metadata": {},
   "source": [
    "### Extract DF/F values"
   ]
  },
  {
   "cell_type": "code",
   "execution_count": null,
   "metadata": {},
   "outputs": [],
   "source": [
    "#%% Extract DF/F values\n",
    "cnm2.estimates.detrend_df_f(quantileMin=8, frames_window=250)"
   ]
  },
  {
   "cell_type": "markdown",
   "metadata": {},
   "source": [
    "### Select only high quality components"
   ]
  },
  {
   "cell_type": "code",
   "execution_count": null,
   "metadata": {},
   "outputs": [],
   "source": [
    "cnm2.estimates.select_components(use_object=True)"
   ]
  },
  {
   "cell_type": "markdown",
   "metadata": {},
   "source": [
    "## Display final results"
   ]
  },
  {
   "cell_type": "code",
   "execution_count": null,
   "metadata": {
    "scrolled": false
   },
   "outputs": [],
   "source": [
    "cnm2.estimates.nb_view_components(img=Cn, denoised_color='red')\n",
    "print('you may need to change the data rate to generate this one: use jupyter notebook --NotebookApp.iopub_data_rate_limit=1.0e10 before opening jupyter notebook')"
   ]
  },
  {
   "cell_type": "markdown",
   "metadata": {},
   "source": [
    "## Closing, saving, and creating denoised version\n",
    "### You can save an hdf5 file with all the fields of the cnmf object"
   ]
  },
  {
   "cell_type": "code",
   "execution_count": null,
   "metadata": {},
   "outputs": [],
   "source": [
    "save_results = False\n",
    "if save_results:\n",
    "    cnm2.save('analysis_results.hdf5')\n"
   ]
  },
  {
   "cell_type": "markdown",
   "metadata": {},
   "source": [
    "### Stop cluster and clean up LOG files"
   ]
  },
  {
   "cell_type": "code",
   "execution_count": null,
   "metadata": {},
   "outputs": [],
   "source": [
    "#%% STOP CLUSTER and clean up log files\n",
    "cm.stop_server(dview=dview)\n",
    "log_files = glob.glob('*_LOG_*')\n",
    "for log_file in log_files:\n",
    "    os.remove(log_file)"
   ]
  },
  {
   "cell_type": "markdown",
   "metadata": {},
   "source": [
    "### View movie with the results\n",
    "We can inspect the denoised results by reconstructing the movie and playing alongside the original data and the resulting (amplified) residual movie"
   ]
  },
  {
   "cell_type": "code",
   "execution_count": null,
   "metadata": {},
   "outputs": [],
   "source": [
    "cnm2.estimates.play_movie(images, q_max=99.9, gain_res=2,\n",
    "                                  magnification=2,\n",
    "                                  bpx=border_to_0,\n",
    "                                  include_bck=False)"
   ]
  },
  {
   "cell_type": "markdown",
   "metadata": {},
   "source": [
    "The denoised movie can also be explicitly constructed using:"
   ]
  },
  {
   "cell_type": "code",
   "execution_count": null,
   "metadata": {},
   "outputs": [],
   "source": [
    "#%% reconstruct denoised movie\n",
    "denoised = cm.movie(cnm2.estimates.A.dot(cnm2.estimates.C) + \\\n",
    "                    cnm2.estimates.b.dot(cnm2.estimates.f)).reshape(dims + (-1,), order='F').transpose([2, 0, 1])"
   ]
  }
 ],
 "metadata": {
  "anaconda-cloud": {},
  "kernelspec": {
   "display_name": "Python 3",
   "language": "python",
   "name": "python3"
  },
  "language_info": {
   "codemirror_mode": {
    "name": "ipython",
    "version": 3
   },
   "file_extension": ".py",
   "mimetype": "text/x-python",
   "name": "python",
   "nbconvert_exporter": "python",
   "pygments_lexer": "ipython3",
   "version": "3.6.7"
  }
 },
 "nbformat": 4,
 "nbformat_minor": 1
}
